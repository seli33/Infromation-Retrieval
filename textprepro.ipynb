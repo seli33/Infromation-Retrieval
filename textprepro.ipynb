{
 "cells": [
  {
   "cell_type": "code",
   "execution_count": 420,
   "id": "dadfe284",
   "metadata": {},
   "outputs": [
    {
     "name": "stdout",
     "output_type": "stream",
     "text": [
      "                                              Review\n",
      "0  OMG!!! 😱 This movie was sooo goooddd... I can'...\n",
      "1  U gotta check this out 👉 https://bit.ly/3XYZab...\n",
      "2  i am soooo happpyyy rn 😍😍😍 best day everrrrr!!!!!\n",
      "3              wht r u doin tmrw?? wanna hang? lol 😂\n",
      "4             I LUVVV pizza soooo muchhh 🍕🍕🍕 #foodie\n",
      "5     Ths place is awesomee but srvce cud be bttr...\n",
      "6  IMMA bout to rage quit dis game 😤😤😤 y'all it's...\n",
      "7     plz tell me ur opinion... it's vry imp 2 me 🙏🙏\n",
      "8  the lecture was boringgg af 😪😪😪 couldn't even ...\n"
     ]
    }
   ],
   "source": [
    "import pandas as pd\n",
    "\n",
    "data = [\n",
    "    \"OMG!!! 😱 This movie was sooo goooddd... I can't even!!! 🤯\",\n",
    "    \"U gotta check this out 👉 https://bit.ly/3XYZabc it's gr8!!! 🔥🔥🔥\",\n",
    "    \"i am soooo happpyyy rn 😍😍😍 best day everrrrr!!!!!\",\n",
    "    \"wht r u doin tmrw?? wanna hang? lol 😂\",\n",
    "    \"I LUVVV pizza soooo muchhh 🍕🍕🍕 #foodie\",\n",
    "    \"Ths place is awesomee but srvce cud be bttr...\",\n",
    "    \"IMMA bout to rage quit dis game 😤😤😤 y'all it's broken af\",\n",
    "    \"plz tell me ur opinion... it's vry imp 2 me 🙏🙏\",\n",
    "    \"the lecture was boringgg af 😪😪😪 couldn't even listen!\",\n",
    "    \n",
    "]\n",
    "\n",
    "df = pd.DataFrame(data, columns=[\"Review\"])\n",
    "print(df)\n",
    "\n",
    "\n"
   ]
  },
  {
   "cell_type": "code",
   "execution_count": 421,
   "id": "50a9b67b",
   "metadata": {},
   "outputs": [
    {
     "data": {
      "text/html": [
       "<div>\n",
       "<style scoped>\n",
       "    .dataframe tbody tr th:only-of-type {\n",
       "        vertical-align: middle;\n",
       "    }\n",
       "\n",
       "    .dataframe tbody tr th {\n",
       "        vertical-align: top;\n",
       "    }\n",
       "\n",
       "    .dataframe thead th {\n",
       "        text-align: right;\n",
       "    }\n",
       "</style>\n",
       "<table border=\"1\" class=\"dataframe\">\n",
       "  <thead>\n",
       "    <tr style=\"text-align: right;\">\n",
       "      <th></th>\n",
       "      <th>Review</th>\n",
       "    </tr>\n",
       "  </thead>\n",
       "  <tbody>\n",
       "    <tr>\n",
       "      <th>0</th>\n",
       "      <td>OMG!!! 😱 This movie was sooo goooddd... I can'...</td>\n",
       "    </tr>\n",
       "    <tr>\n",
       "      <th>1</th>\n",
       "      <td>U gotta check this out 👉 https://bit.ly/3XYZab...</td>\n",
       "    </tr>\n",
       "    <tr>\n",
       "      <th>2</th>\n",
       "      <td>i am soooo happpyyy rn 😍😍😍 best day everrrrr!!!!!</td>\n",
       "    </tr>\n",
       "    <tr>\n",
       "      <th>3</th>\n",
       "      <td>wht r u doin tmrw?? wanna hang? lol 😂</td>\n",
       "    </tr>\n",
       "    <tr>\n",
       "      <th>4</th>\n",
       "      <td>I LUVVV pizza soooo muchhh 🍕🍕🍕 #foodie</td>\n",
       "    </tr>\n",
       "  </tbody>\n",
       "</table>\n",
       "</div>"
      ],
      "text/plain": [
       "                                              Review\n",
       "0  OMG!!! 😱 This movie was sooo goooddd... I can'...\n",
       "1  U gotta check this out 👉 https://bit.ly/3XYZab...\n",
       "2  i am soooo happpyyy rn 😍😍😍 best day everrrrr!!!!!\n",
       "3              wht r u doin tmrw?? wanna hang? lol 😂\n",
       "4             I LUVVV pizza soooo muchhh 🍕🍕🍕 #foodie"
      ]
     },
     "execution_count": 421,
     "metadata": {},
     "output_type": "execute_result"
    }
   ],
   "source": [
    "df.head()"
   ]
  },
  {
   "cell_type": "markdown",
   "id": "b4ee31d4",
   "metadata": {},
   "source": [
    "## Lowercasing and Replacing short form with full form"
   ]
  },
  {
   "cell_type": "code",
   "execution_count": 422,
   "id": "81f135c5",
   "metadata": {},
   "outputs": [
    {
     "data": {
      "text/html": [
       "<div>\n",
       "<style scoped>\n",
       "    .dataframe tbody tr th:only-of-type {\n",
       "        vertical-align: middle;\n",
       "    }\n",
       "\n",
       "    .dataframe tbody tr th {\n",
       "        vertical-align: top;\n",
       "    }\n",
       "\n",
       "    .dataframe thead th {\n",
       "        text-align: right;\n",
       "    }\n",
       "</style>\n",
       "<table border=\"1\" class=\"dataframe\">\n",
       "  <thead>\n",
       "    <tr style=\"text-align: right;\">\n",
       "      <th></th>\n",
       "      <th>Review</th>\n",
       "      <th>Cleaned_Review</th>\n",
       "    </tr>\n",
       "  </thead>\n",
       "  <tbody>\n",
       "    <tr>\n",
       "      <th>0</th>\n",
       "      <td>OMG!!! 😱 This movie was sooo goooddd... I can'...</td>\n",
       "      <td>oh my god 😱 this movie was sooo goooddd... i c...</td>\n",
       "    </tr>\n",
       "    <tr>\n",
       "      <th>1</th>\n",
       "      <td>U gotta check this out 👉 https://bit.ly/3XYZab...</td>\n",
       "      <td>you got to check this out 👉 https://bit.ly/3xy...</td>\n",
       "    </tr>\n",
       "    <tr>\n",
       "      <th>2</th>\n",
       "      <td>i am soooo happpyyy rn 😍😍😍 best day everrrrr!!!!!</td>\n",
       "      <td>i am soooo happpyyy right now 😍😍😍 best day eve...</td>\n",
       "    </tr>\n",
       "    <tr>\n",
       "      <th>3</th>\n",
       "      <td>wht r u doin tmrw?? wanna hang? lol 😂</td>\n",
       "      <td>what are you doing tomorrow want to hang? laug...</td>\n",
       "    </tr>\n",
       "    <tr>\n",
       "      <th>4</th>\n",
       "      <td>I LUVVV pizza soooo muchhh 🍕🍕🍕 #foodie</td>\n",
       "      <td>i love pizza soooo muchhh 🍕🍕🍕 #foodie</td>\n",
       "    </tr>\n",
       "  </tbody>\n",
       "</table>\n",
       "</div>"
      ],
      "text/plain": [
       "                                              Review  \\\n",
       "0  OMG!!! 😱 This movie was sooo goooddd... I can'...   \n",
       "1  U gotta check this out 👉 https://bit.ly/3XYZab...   \n",
       "2  i am soooo happpyyy rn 😍😍😍 best day everrrrr!!!!!   \n",
       "3              wht r u doin tmrw?? wanna hang? lol 😂   \n",
       "4             I LUVVV pizza soooo muchhh 🍕🍕🍕 #foodie   \n",
       "\n",
       "                                      Cleaned_Review  \n",
       "0  oh my god 😱 this movie was sooo goooddd... i c...  \n",
       "1  you got to check this out 👉 https://bit.ly/3xy...  \n",
       "2  i am soooo happpyyy right now 😍😍😍 best day eve...  \n",
       "3  what are you doing tomorrow want to hang? laug...  \n",
       "4              i love pizza soooo muchhh 🍕🍕🍕 #foodie  "
      ]
     },
     "execution_count": 422,
     "metadata": {},
     "output_type": "execute_result"
    }
   ],
   "source": [
    "short_forms = {\n",
    "    \"omg\":\"oh my god\",\n",
    "    \"u\": \"you\",\n",
    "    \"r\": \"are\",\n",
    "    \"ur\": \"your\",\n",
    "    \"2\":\"to\",\n",
    "    \"imp\":\"important\",\n",
    "    \"doin\":\"doing\",\n",
    "    \"tmrw\": \"tomorrow\",\n",
    "    \"plz\": \"please\",\n",
    "    \"cud\": \"could\",\n",
    "    \"bttr\": \"better\",\n",
    "    \"cant\":\"cannot\",\n",
    "    \"luv\": \"love\",\n",
    "    \"luvvv\": \"love\",\n",
    "    \"gr8\": \"great\",\n",
    "    \"rn\": \"right now\",\n",
    "    \"imma\": \"i am \",\n",
    "    \"bout\":\"about\",\n",
    "    \"y'all\": \"you all\",\n",
    "    \"af\": \"as friend\",  #\n",
    "    \"wht\": \"what\",\n",
    "    \"srvce\": \"service\",\n",
    "    \"dis\": \"this\",\n",
    "    \"vry\": \"very\",\n",
    "    \"couldnt\":\"could not\",\n",
    "    \"opinion...\": \"opinion\",  # punctuation cleanup may be separate\n",
    "    \"bruh\": \"brother\",  # or slang term for \"dude\"\n",
    "    \"lol\": \"laughing out loud\",\n",
    "    \"it's\": \"it is\",  # contraction (optional in some cleanups)\n",
    "    \"ppl\": \"people\",\n",
    "     \"gotta\": \"got to\",\n",
    "     \"wanna\":\"want to\",\n",
    "    \"hang?\": \"hang\",  # punctuation cleanup again\n",
    "}\n",
    "\n",
    "def clean_text(text):\n",
    "    split_word = text.lower().split()\n",
    "    corrected_output = [short_forms.get(word.strip(\".,!?;:'\\\"\"), word) for word in split_word]\n",
    "    correct_words = ' '.join(corrected_output)\n",
    "    return correct_words\n",
    "\n",
    "df['Cleaned_Review'] = df['Review'].apply(clean_text)\n",
    "df[['Review', 'Cleaned_Review']].head()"
   ]
  },
  {
   "cell_type": "markdown",
   "id": "c84aaeab",
   "metadata": {},
   "source": [
    "## Removing html \n"
   ]
  },
  {
   "cell_type": "code",
   "execution_count": 423,
   "id": "b72c2481",
   "metadata": {},
   "outputs": [],
   "source": [
    "import re"
   ]
  },
  {
   "cell_type": "code",
   "execution_count": 424,
   "id": "03d1ed1a",
   "metadata": {},
   "outputs": [],
   "source": [
    "def remove_html(text):\n",
    "    pattern=re.compile(r'<[^>]+>')\n",
    "    return pattern.sub('',text)\n",
    "\n",
    "df['Cleaned_Review']=df['Cleaned_Review'].apply(lambda text:remove_html(text))\n"
   ]
  },
  {
   "cell_type": "code",
   "execution_count": 425,
   "id": "cdcd5e54",
   "metadata": {},
   "outputs": [
    {
     "data": {
      "text/html": [
       "<div>\n",
       "<style scoped>\n",
       "    .dataframe tbody tr th:only-of-type {\n",
       "        vertical-align: middle;\n",
       "    }\n",
       "\n",
       "    .dataframe tbody tr th {\n",
       "        vertical-align: top;\n",
       "    }\n",
       "\n",
       "    .dataframe thead th {\n",
       "        text-align: right;\n",
       "    }\n",
       "</style>\n",
       "<table border=\"1\" class=\"dataframe\">\n",
       "  <thead>\n",
       "    <tr style=\"text-align: right;\">\n",
       "      <th></th>\n",
       "      <th>Review</th>\n",
       "      <th>Cleaned_Review</th>\n",
       "    </tr>\n",
       "  </thead>\n",
       "  <tbody>\n",
       "    <tr>\n",
       "      <th>0</th>\n",
       "      <td>OMG!!! 😱 This movie was sooo goooddd... I can'...</td>\n",
       "      <td>oh my god 😱 this movie was sooo goooddd... i c...</td>\n",
       "    </tr>\n",
       "    <tr>\n",
       "      <th>1</th>\n",
       "      <td>U gotta check this out 👉 https://bit.ly/3XYZab...</td>\n",
       "      <td>you got to check this out 👉 https://bit.ly/3xy...</td>\n",
       "    </tr>\n",
       "    <tr>\n",
       "      <th>2</th>\n",
       "      <td>i am soooo happpyyy rn 😍😍😍 best day everrrrr!!!!!</td>\n",
       "      <td>i am soooo happpyyy right now 😍😍😍 best day eve...</td>\n",
       "    </tr>\n",
       "    <tr>\n",
       "      <th>3</th>\n",
       "      <td>wht r u doin tmrw?? wanna hang? lol 😂</td>\n",
       "      <td>what are you doing tomorrow want to hang? laug...</td>\n",
       "    </tr>\n",
       "    <tr>\n",
       "      <th>4</th>\n",
       "      <td>I LUVVV pizza soooo muchhh 🍕🍕🍕 #foodie</td>\n",
       "      <td>i love pizza soooo muchhh 🍕🍕🍕 #foodie</td>\n",
       "    </tr>\n",
       "  </tbody>\n",
       "</table>\n",
       "</div>"
      ],
      "text/plain": [
       "                                              Review  \\\n",
       "0  OMG!!! 😱 This movie was sooo goooddd... I can'...   \n",
       "1  U gotta check this out 👉 https://bit.ly/3XYZab...   \n",
       "2  i am soooo happpyyy rn 😍😍😍 best day everrrrr!!!!!   \n",
       "3              wht r u doin tmrw?? wanna hang? lol 😂   \n",
       "4             I LUVVV pizza soooo muchhh 🍕🍕🍕 #foodie   \n",
       "\n",
       "                                      Cleaned_Review  \n",
       "0  oh my god 😱 this movie was sooo goooddd... i c...  \n",
       "1  you got to check this out 👉 https://bit.ly/3xy...  \n",
       "2  i am soooo happpyyy right now 😍😍😍 best day eve...  \n",
       "3  what are you doing tomorrow want to hang? laug...  \n",
       "4              i love pizza soooo muchhh 🍕🍕🍕 #foodie  "
      ]
     },
     "execution_count": 425,
     "metadata": {},
     "output_type": "execute_result"
    }
   ],
   "source": [
    "df.head()"
   ]
  },
  {
   "cell_type": "markdown",
   "id": "18b91337",
   "metadata": {},
   "source": [
    "## Removing URLS\n",
    " "
   ]
  },
  {
   "cell_type": "code",
   "execution_count": 426,
   "id": "d5130824",
   "metadata": {},
   "outputs": [],
   "source": [
    "def remove_urls(text):\n",
    "    pattern=re.compile(r'https?://\\S+|www\\.\\S+')\n",
    "    return pattern.sub('',text)\n",
    "\n",
    "df['removed_url']=df['Cleaned_Review'].apply(remove_urls)\n"
   ]
  },
  {
   "cell_type": "code",
   "execution_count": 427,
   "id": "af7e1fc9",
   "metadata": {},
   "outputs": [
    {
     "data": {
      "text/html": [
       "<div>\n",
       "<style scoped>\n",
       "    .dataframe tbody tr th:only-of-type {\n",
       "        vertical-align: middle;\n",
       "    }\n",
       "\n",
       "    .dataframe tbody tr th {\n",
       "        vertical-align: top;\n",
       "    }\n",
       "\n",
       "    .dataframe thead th {\n",
       "        text-align: right;\n",
       "    }\n",
       "</style>\n",
       "<table border=\"1\" class=\"dataframe\">\n",
       "  <thead>\n",
       "    <tr style=\"text-align: right;\">\n",
       "      <th></th>\n",
       "      <th>Review</th>\n",
       "      <th>Cleaned_Review</th>\n",
       "      <th>removed_url</th>\n",
       "    </tr>\n",
       "  </thead>\n",
       "  <tbody>\n",
       "    <tr>\n",
       "      <th>0</th>\n",
       "      <td>OMG!!! 😱 This movie was sooo goooddd... I can'...</td>\n",
       "      <td>oh my god 😱 this movie was sooo goooddd... i c...</td>\n",
       "      <td>oh my god 😱 this movie was sooo goooddd... i c...</td>\n",
       "    </tr>\n",
       "    <tr>\n",
       "      <th>1</th>\n",
       "      <td>U gotta check this out 👉 https://bit.ly/3XYZab...</td>\n",
       "      <td>you got to check this out 👉 https://bit.ly/3xy...</td>\n",
       "      <td>you got to check this out 👉  it is great 🔥🔥🔥</td>\n",
       "    </tr>\n",
       "    <tr>\n",
       "      <th>2</th>\n",
       "      <td>i am soooo happpyyy rn 😍😍😍 best day everrrrr!!!!!</td>\n",
       "      <td>i am soooo happpyyy right now 😍😍😍 best day eve...</td>\n",
       "      <td>i am soooo happpyyy right now 😍😍😍 best day eve...</td>\n",
       "    </tr>\n",
       "    <tr>\n",
       "      <th>3</th>\n",
       "      <td>wht r u doin tmrw?? wanna hang? lol 😂</td>\n",
       "      <td>what are you doing tomorrow want to hang? laug...</td>\n",
       "      <td>what are you doing tomorrow want to hang? laug...</td>\n",
       "    </tr>\n",
       "    <tr>\n",
       "      <th>4</th>\n",
       "      <td>I LUVVV pizza soooo muchhh 🍕🍕🍕 #foodie</td>\n",
       "      <td>i love pizza soooo muchhh 🍕🍕🍕 #foodie</td>\n",
       "      <td>i love pizza soooo muchhh 🍕🍕🍕 #foodie</td>\n",
       "    </tr>\n",
       "  </tbody>\n",
       "</table>\n",
       "</div>"
      ],
      "text/plain": [
       "                                              Review  \\\n",
       "0  OMG!!! 😱 This movie was sooo goooddd... I can'...   \n",
       "1  U gotta check this out 👉 https://bit.ly/3XYZab...   \n",
       "2  i am soooo happpyyy rn 😍😍😍 best day everrrrr!!!!!   \n",
       "3              wht r u doin tmrw?? wanna hang? lol 😂   \n",
       "4             I LUVVV pizza soooo muchhh 🍕🍕🍕 #foodie   \n",
       "\n",
       "                                      Cleaned_Review  \\\n",
       "0  oh my god 😱 this movie was sooo goooddd... i c...   \n",
       "1  you got to check this out 👉 https://bit.ly/3xy...   \n",
       "2  i am soooo happpyyy right now 😍😍😍 best day eve...   \n",
       "3  what are you doing tomorrow want to hang? laug...   \n",
       "4              i love pizza soooo muchhh 🍕🍕🍕 #foodie   \n",
       "\n",
       "                                         removed_url  \n",
       "0  oh my god 😱 this movie was sooo goooddd... i c...  \n",
       "1       you got to check this out 👉  it is great 🔥🔥🔥  \n",
       "2  i am soooo happpyyy right now 😍😍😍 best day eve...  \n",
       "3  what are you doing tomorrow want to hang? laug...  \n",
       "4              i love pizza soooo muchhh 🍕🍕🍕 #foodie  "
      ]
     },
     "execution_count": 427,
     "metadata": {},
     "output_type": "execute_result"
    }
   ],
   "source": [
    "df.head()"
   ]
  },
  {
   "cell_type": "code",
   "execution_count": 428,
   "id": "bc25a19c",
   "metadata": {},
   "outputs": [
    {
     "data": {
      "text/plain": [
       "\"plz tell me ur opinion... it's vry imp 2 me 🙏🙏\""
      ]
     },
     "execution_count": 428,
     "metadata": {},
     "output_type": "execute_result"
    }
   ],
   "source": [
    "df['Review'][7]\n"
   ]
  },
  {
   "cell_type": "code",
   "execution_count": 429,
   "id": "0bbba016",
   "metadata": {},
   "outputs": [
    {
     "data": {
      "text/plain": [
       "'please tell me your opinion... it is very important to me 🙏🙏'"
      ]
     },
     "execution_count": 429,
     "metadata": {},
     "output_type": "execute_result"
    }
   ],
   "source": [
    "df['Cleaned_Review'][7]"
   ]
  },
  {
   "cell_type": "code",
   "execution_count": 430,
   "id": "fb4d0449",
   "metadata": {},
   "outputs": [
    {
     "data": {
      "text/plain": [
       "\"U gotta check this out 👉 https://bit.ly/3XYZabc it's gr8!!! 🔥🔥🔥\""
      ]
     },
     "execution_count": 430,
     "metadata": {},
     "output_type": "execute_result"
    }
   ],
   "source": [
    "df['Review'][1]"
   ]
  },
  {
   "cell_type": "code",
   "execution_count": 431,
   "id": "a27824df",
   "metadata": {},
   "outputs": [
    {
     "data": {
      "text/plain": [
       "'you got to check this out 👉  it is great 🔥🔥🔥'"
      ]
     },
     "execution_count": 431,
     "metadata": {},
     "output_type": "execute_result"
    }
   ],
   "source": [
    "df['removed_url'][1]"
   ]
  },
  {
   "cell_type": "markdown",
   "id": "9f6a8ba5",
   "metadata": {},
   "source": [
    "## Removing Punctuation\n"
   ]
  },
  {
   "cell_type": "code",
   "execution_count": 432,
   "id": "88b87080",
   "metadata": {},
   "outputs": [],
   "source": [
    "import string\n",
    "\n",
    "df['no_punct'] = df['removed_url'].apply(lambda x: re.sub(f\"[{re.escape(string.punctuation)}]\", \"\", x))"
   ]
  },
  {
   "cell_type": "code",
   "execution_count": 433,
   "id": "5cb5b522",
   "metadata": {},
   "outputs": [
    {
     "data": {
      "text/html": [
       "<div>\n",
       "<style scoped>\n",
       "    .dataframe tbody tr th:only-of-type {\n",
       "        vertical-align: middle;\n",
       "    }\n",
       "\n",
       "    .dataframe tbody tr th {\n",
       "        vertical-align: top;\n",
       "    }\n",
       "\n",
       "    .dataframe thead th {\n",
       "        text-align: right;\n",
       "    }\n",
       "</style>\n",
       "<table border=\"1\" class=\"dataframe\">\n",
       "  <thead>\n",
       "    <tr style=\"text-align: right;\">\n",
       "      <th></th>\n",
       "      <th>Review</th>\n",
       "      <th>Cleaned_Review</th>\n",
       "      <th>removed_url</th>\n",
       "      <th>no_punct</th>\n",
       "    </tr>\n",
       "  </thead>\n",
       "  <tbody>\n",
       "    <tr>\n",
       "      <th>0</th>\n",
       "      <td>OMG!!! 😱 This movie was sooo goooddd... I can'...</td>\n",
       "      <td>oh my god 😱 this movie was sooo goooddd... i c...</td>\n",
       "      <td>oh my god 😱 this movie was sooo goooddd... i c...</td>\n",
       "      <td>oh my god 😱 this movie was sooo goooddd i cant...</td>\n",
       "    </tr>\n",
       "    <tr>\n",
       "      <th>1</th>\n",
       "      <td>U gotta check this out 👉 https://bit.ly/3XYZab...</td>\n",
       "      <td>you got to check this out 👉 https://bit.ly/3xy...</td>\n",
       "      <td>you got to check this out 👉  it is great 🔥🔥🔥</td>\n",
       "      <td>you got to check this out 👉  it is great 🔥🔥🔥</td>\n",
       "    </tr>\n",
       "    <tr>\n",
       "      <th>2</th>\n",
       "      <td>i am soooo happpyyy rn 😍😍😍 best day everrrrr!!!!!</td>\n",
       "      <td>i am soooo happpyyy right now 😍😍😍 best day eve...</td>\n",
       "      <td>i am soooo happpyyy right now 😍😍😍 best day eve...</td>\n",
       "      <td>i am soooo happpyyy right now 😍😍😍 best day eve...</td>\n",
       "    </tr>\n",
       "    <tr>\n",
       "      <th>3</th>\n",
       "      <td>wht r u doin tmrw?? wanna hang? lol 😂</td>\n",
       "      <td>what are you doing tomorrow want to hang? laug...</td>\n",
       "      <td>what are you doing tomorrow want to hang? laug...</td>\n",
       "      <td>what are you doing tomorrow want to hang laugh...</td>\n",
       "    </tr>\n",
       "    <tr>\n",
       "      <th>4</th>\n",
       "      <td>I LUVVV pizza soooo muchhh 🍕🍕🍕 #foodie</td>\n",
       "      <td>i love pizza soooo muchhh 🍕🍕🍕 #foodie</td>\n",
       "      <td>i love pizza soooo muchhh 🍕🍕🍕 #foodie</td>\n",
       "      <td>i love pizza soooo muchhh 🍕🍕🍕 foodie</td>\n",
       "    </tr>\n",
       "  </tbody>\n",
       "</table>\n",
       "</div>"
      ],
      "text/plain": [
       "                                              Review  \\\n",
       "0  OMG!!! 😱 This movie was sooo goooddd... I can'...   \n",
       "1  U gotta check this out 👉 https://bit.ly/3XYZab...   \n",
       "2  i am soooo happpyyy rn 😍😍😍 best day everrrrr!!!!!   \n",
       "3              wht r u doin tmrw?? wanna hang? lol 😂   \n",
       "4             I LUVVV pizza soooo muchhh 🍕🍕🍕 #foodie   \n",
       "\n",
       "                                      Cleaned_Review  \\\n",
       "0  oh my god 😱 this movie was sooo goooddd... i c...   \n",
       "1  you got to check this out 👉 https://bit.ly/3xy...   \n",
       "2  i am soooo happpyyy right now 😍😍😍 best day eve...   \n",
       "3  what are you doing tomorrow want to hang? laug...   \n",
       "4              i love pizza soooo muchhh 🍕🍕🍕 #foodie   \n",
       "\n",
       "                                         removed_url  \\\n",
       "0  oh my god 😱 this movie was sooo goooddd... i c...   \n",
       "1       you got to check this out 👉  it is great 🔥🔥🔥   \n",
       "2  i am soooo happpyyy right now 😍😍😍 best day eve...   \n",
       "3  what are you doing tomorrow want to hang? laug...   \n",
       "4              i love pizza soooo muchhh 🍕🍕🍕 #foodie   \n",
       "\n",
       "                                            no_punct  \n",
       "0  oh my god 😱 this movie was sooo goooddd i cant...  \n",
       "1       you got to check this out 👉  it is great 🔥🔥🔥  \n",
       "2  i am soooo happpyyy right now 😍😍😍 best day eve...  \n",
       "3  what are you doing tomorrow want to hang laugh...  \n",
       "4               i love pizza soooo muchhh 🍕🍕🍕 foodie  "
      ]
     },
     "execution_count": 433,
     "metadata": {},
     "output_type": "execute_result"
    }
   ],
   "source": [
    "df.head()"
   ]
  },
  {
   "cell_type": "markdown",
   "id": "7be41a59",
   "metadata": {},
   "source": [
    "## Removing Emoji "
   ]
  },
  {
   "cell_type": "code",
   "execution_count": 434,
   "id": "6ee77607",
   "metadata": {},
   "outputs": [],
   "source": [
    "def remove_emojis(text):\n",
    "    emoji_pattern = re.compile(\"[\"\n",
    "                               u\"\\U0001F600-\\U0001F64F\"  # Emojis\n",
    "                               u\"\\U0001F300-\\U0001F5FF\"  # Symbols & Pictographs\n",
    "                               u\"\\U0001F680-\\U0001F6FF\"  # Transport & Map Symbols\n",
    "                               u\"\\U0001F700-\\U0001F77F\"  # Alchemical Symbols\n",
    "                               u\"\\U0001F780-\\U0001F7FF\"  # Geometric Shapes Extended\n",
    "                               u\"\\U0001F800-\\U0001F8FF\"  # Supplemental Arrows-C\n",
    "                               u\"\\U0001F900-\\U0001F9FF\"  # Supplemental Symbols and Pictographs\n",
    "                               u\"\\U0001FA00-\\U0001FA6F\"  # Chess Symbols\n",
    "                               u\"\\U0001FA70-\\U0001FAFF\"  # Symbols and Pictographs Extended-A\n",
    "                               u\"\\U0001FB00-\\U0001FBFF\"  # Symbols for Legacy Computing\n",
    "                               u\"\\U0001F004-\\U0001F0CF\"  # Miscellaneous Symbols and Arrows\n",
    "                               u\"\\U0001F10D-\\U0001F10F\"  # Enclosed Alphanumeric Supplement\n",
    "                               u\"\\U0001F200-\\U0001F251\"  # Enclosed Ideographic Supplement\n",
    "                               \"]+\", flags=re.UNICODE)\n",
    "    return emoji_pattern.sub(r'', text)\n",
    "\n",
    "\n",
    "df['no_emoji'] = df['no_punct'].apply(remove_emojis)"
   ]
  },
  {
   "cell_type": "code",
   "execution_count": 435,
   "id": "caa47ebf",
   "metadata": {},
   "outputs": [
    {
     "data": {
      "text/html": [
       "<div>\n",
       "<style scoped>\n",
       "    .dataframe tbody tr th:only-of-type {\n",
       "        vertical-align: middle;\n",
       "    }\n",
       "\n",
       "    .dataframe tbody tr th {\n",
       "        vertical-align: top;\n",
       "    }\n",
       "\n",
       "    .dataframe thead th {\n",
       "        text-align: right;\n",
       "    }\n",
       "</style>\n",
       "<table border=\"1\" class=\"dataframe\">\n",
       "  <thead>\n",
       "    <tr style=\"text-align: right;\">\n",
       "      <th></th>\n",
       "      <th>no_emoji</th>\n",
       "    </tr>\n",
       "  </thead>\n",
       "  <tbody>\n",
       "    <tr>\n",
       "      <th>0</th>\n",
       "      <td>oh my god  this movie was sooo goooddd i cant ...</td>\n",
       "    </tr>\n",
       "    <tr>\n",
       "      <th>1</th>\n",
       "      <td>you got to check this out   it is great</td>\n",
       "    </tr>\n",
       "    <tr>\n",
       "      <th>2</th>\n",
       "      <td>i am soooo happpyyy right now  best day everrrrr</td>\n",
       "    </tr>\n",
       "    <tr>\n",
       "      <th>3</th>\n",
       "      <td>what are you doing tomorrow want to hang laugh...</td>\n",
       "    </tr>\n",
       "    <tr>\n",
       "      <th>4</th>\n",
       "      <td>i love pizza soooo muchhh  foodie</td>\n",
       "    </tr>\n",
       "    <tr>\n",
       "      <th>5</th>\n",
       "      <td>ths place is awesomee but service could be better</td>\n",
       "    </tr>\n",
       "    <tr>\n",
       "      <th>6</th>\n",
       "      <td>i am  about to rage quit this game  you all it...</td>\n",
       "    </tr>\n",
       "    <tr>\n",
       "      <th>7</th>\n",
       "      <td>please tell me your opinion it is very importa...</td>\n",
       "    </tr>\n",
       "    <tr>\n",
       "      <th>8</th>\n",
       "      <td>the lecture was boringgg as friend  couldnt ev...</td>\n",
       "    </tr>\n",
       "  </tbody>\n",
       "</table>\n",
       "</div>"
      ],
      "text/plain": [
       "                                            no_emoji\n",
       "0  oh my god  this movie was sooo goooddd i cant ...\n",
       "1           you got to check this out   it is great \n",
       "2   i am soooo happpyyy right now  best day everrrrr\n",
       "3  what are you doing tomorrow want to hang laugh...\n",
       "4                  i love pizza soooo muchhh  foodie\n",
       "5  ths place is awesomee but service could be better\n",
       "6  i am  about to rage quit this game  you all it...\n",
       "7  please tell me your opinion it is very importa...\n",
       "8  the lecture was boringgg as friend  couldnt ev..."
      ]
     },
     "execution_count": 435,
     "metadata": {},
     "output_type": "execute_result"
    }
   ],
   "source": [
    "df[['no_emoji']]"
   ]
  },
  {
   "cell_type": "markdown",
   "id": "0c87f199",
   "metadata": {},
   "source": [
    "## Reduce Elongated Words"
   ]
  },
  {
   "cell_type": "code",
   "execution_count": 436,
   "id": "85bc7cdb",
   "metadata": {},
   "outputs": [
    {
     "data": {
      "text/html": [
       "<div>\n",
       "<style scoped>\n",
       "    .dataframe tbody tr th:only-of-type {\n",
       "        vertical-align: middle;\n",
       "    }\n",
       "\n",
       "    .dataframe tbody tr th {\n",
       "        vertical-align: top;\n",
       "    }\n",
       "\n",
       "    .dataframe thead th {\n",
       "        text-align: right;\n",
       "    }\n",
       "</style>\n",
       "<table border=\"1\" class=\"dataframe\">\n",
       "  <thead>\n",
       "    <tr style=\"text-align: right;\">\n",
       "      <th></th>\n",
       "      <th>no_emoji</th>\n",
       "      <th>correct</th>\n",
       "    </tr>\n",
       "  </thead>\n",
       "  <tbody>\n",
       "    <tr>\n",
       "      <th>0</th>\n",
       "      <td>oh my god  this movie was sooo goooddd i cant ...</td>\n",
       "      <td>oh my god this movie was so good i cant even</td>\n",
       "    </tr>\n",
       "    <tr>\n",
       "      <th>1</th>\n",
       "      <td>you got to check this out   it is great</td>\n",
       "      <td>you got to check this out it is great</td>\n",
       "    </tr>\n",
       "    <tr>\n",
       "      <th>2</th>\n",
       "      <td>i am soooo happpyyy right now  best day everrrrr</td>\n",
       "      <td>i am so happy right now best day ever</td>\n",
       "    </tr>\n",
       "    <tr>\n",
       "      <th>3</th>\n",
       "      <td>what are you doing tomorrow want to hang laugh...</td>\n",
       "      <td>what are you doing tomorrow want to hang laugh...</td>\n",
       "    </tr>\n",
       "    <tr>\n",
       "      <th>4</th>\n",
       "      <td>i love pizza soooo muchhh  foodie</td>\n",
       "      <td>i love pizza so much foodie</td>\n",
       "    </tr>\n",
       "    <tr>\n",
       "      <th>5</th>\n",
       "      <td>ths place is awesomee but service could be better</td>\n",
       "      <td>ths place is awesome but service could be better</td>\n",
       "    </tr>\n",
       "    <tr>\n",
       "      <th>6</th>\n",
       "      <td>i am  about to rage quit this game  you all it...</td>\n",
       "      <td>i am about to rage quit this game you all it i...</td>\n",
       "    </tr>\n",
       "    <tr>\n",
       "      <th>7</th>\n",
       "      <td>please tell me your opinion it is very importa...</td>\n",
       "      <td>please tell me your opinion it is very importa...</td>\n",
       "    </tr>\n",
       "    <tr>\n",
       "      <th>8</th>\n",
       "      <td>the lecture was boringgg as friend  couldnt ev...</td>\n",
       "      <td>the lecture was boring as friend couldnt even ...</td>\n",
       "    </tr>\n",
       "  </tbody>\n",
       "</table>\n",
       "</div>"
      ],
      "text/plain": [
       "                                            no_emoji  \\\n",
       "0  oh my god  this movie was sooo goooddd i cant ...   \n",
       "1           you got to check this out   it is great    \n",
       "2   i am soooo happpyyy right now  best day everrrrr   \n",
       "3  what are you doing tomorrow want to hang laugh...   \n",
       "4                  i love pizza soooo muchhh  foodie   \n",
       "5  ths place is awesomee but service could be better   \n",
       "6  i am  about to rage quit this game  you all it...   \n",
       "7  please tell me your opinion it is very importa...   \n",
       "8  the lecture was boringgg as friend  couldnt ev...   \n",
       "\n",
       "                                             correct  \n",
       "0       oh my god this movie was so good i cant even  \n",
       "1              you got to check this out it is great  \n",
       "2              i am so happy right now best day ever  \n",
       "3  what are you doing tomorrow want to hang laugh...  \n",
       "4                        i love pizza so much foodie  \n",
       "5   ths place is awesome but service could be better  \n",
       "6  i am about to rage quit this game you all it i...  \n",
       "7  please tell me your opinion it is very importa...  \n",
       "8  the lecture was boring as friend couldnt even ...  "
      ]
     },
     "execution_count": 436,
     "metadata": {},
     "output_type": "execute_result"
    }
   ],
   "source": [
    "whitelist = {\"tell\", \"pizza\", \"happy\",\"all\", \"love\"}\n",
    "\n",
    "def correct_safely(text):\n",
    "    words = text.split()\n",
    "    result = []\n",
    "    for word in words:\n",
    "        if word.lower() in whitelist:\n",
    "            result.append(word)\n",
    "        else:\n",
    "            # Reduce elongated letters (3+ to 2)\n",
    "            new_word = re.sub(r'(.)\\1{2,}', r'\\1\\1', word)\n",
    "            neww_word=re.sub(r'(.)\\1$', r'\\1', new_word)\n",
    "            result.append(neww_word)\n",
    "    return ' '.join(result)\n",
    "\n",
    "df['correct'] = df['no_emoji'].apply(correct_safely)\n",
    "\n",
    "df[['no_emoji', 'correct']]\n"
   ]
  },
  {
   "cell_type": "code",
   "execution_count": 437,
   "id": "dd8331ed",
   "metadata": {},
   "outputs": [],
   "source": [
    "# from textblob import TextBlob\n",
    "# def correct_spell(text):\n",
    "#     blob=TextBlob(text)\n",
    "#     return blob.correct().string\n",
    "\n",
    "# df['correct_spelling']=df['correct'].apply(correct_spell)\n",
    "# df[['correct','correct_spelling']].head()\n",
    "\n"
   ]
  },
  {
   "cell_type": "code",
   "execution_count": 438,
   "id": "312d9f92",
   "metadata": {},
   "outputs": [
    {
     "data": {
      "text/html": [
       "<div>\n",
       "<style scoped>\n",
       "    .dataframe tbody tr th:only-of-type {\n",
       "        vertical-align: middle;\n",
       "    }\n",
       "\n",
       "    .dataframe tbody tr th {\n",
       "        vertical-align: top;\n",
       "    }\n",
       "\n",
       "    .dataframe thead th {\n",
       "        text-align: right;\n",
       "    }\n",
       "</style>\n",
       "<table border=\"1\" class=\"dataframe\">\n",
       "  <thead>\n",
       "    <tr style=\"text-align: right;\">\n",
       "      <th></th>\n",
       "      <th>correct</th>\n",
       "      <th>no_stopwords</th>\n",
       "    </tr>\n",
       "  </thead>\n",
       "  <tbody>\n",
       "    <tr>\n",
       "      <th>0</th>\n",
       "      <td>oh my god this movie was so good i cant even</td>\n",
       "      <td>oh god movie good cant even</td>\n",
       "    </tr>\n",
       "    <tr>\n",
       "      <th>1</th>\n",
       "      <td>you got to check this out it is great</td>\n",
       "      <td>got check great</td>\n",
       "    </tr>\n",
       "    <tr>\n",
       "      <th>2</th>\n",
       "      <td>i am so happy right now best day ever</td>\n",
       "      <td>happy right best day ever</td>\n",
       "    </tr>\n",
       "    <tr>\n",
       "      <th>3</th>\n",
       "      <td>what are you doing tomorrow want to hang laugh...</td>\n",
       "      <td>tomorrow want hang laughing loud</td>\n",
       "    </tr>\n",
       "    <tr>\n",
       "      <th>4</th>\n",
       "      <td>i love pizza so much foodie</td>\n",
       "      <td>love pizza much foodie</td>\n",
       "    </tr>\n",
       "    <tr>\n",
       "      <th>5</th>\n",
       "      <td>ths place is awesome but service could be better</td>\n",
       "      <td>ths place awesome service could better</td>\n",
       "    </tr>\n",
       "    <tr>\n",
       "      <th>6</th>\n",
       "      <td>i am about to rage quit this game you all it i...</td>\n",
       "      <td>rage quit game broken friend</td>\n",
       "    </tr>\n",
       "    <tr>\n",
       "      <th>7</th>\n",
       "      <td>please tell me your opinion it is very importa...</td>\n",
       "      <td>please tell opinion important</td>\n",
       "    </tr>\n",
       "    <tr>\n",
       "      <th>8</th>\n",
       "      <td>the lecture was boring as friend couldnt even ...</td>\n",
       "      <td>lecture boring friend couldnt even listen</td>\n",
       "    </tr>\n",
       "  </tbody>\n",
       "</table>\n",
       "</div>"
      ],
      "text/plain": [
       "                                             correct  \\\n",
       "0       oh my god this movie was so good i cant even   \n",
       "1              you got to check this out it is great   \n",
       "2              i am so happy right now best day ever   \n",
       "3  what are you doing tomorrow want to hang laugh...   \n",
       "4                        i love pizza so much foodie   \n",
       "5   ths place is awesome but service could be better   \n",
       "6  i am about to rage quit this game you all it i...   \n",
       "7  please tell me your opinion it is very importa...   \n",
       "8  the lecture was boring as friend couldnt even ...   \n",
       "\n",
       "                                no_stopwords  \n",
       "0                oh god movie good cant even  \n",
       "1                            got check great  \n",
       "2                  happy right best day ever  \n",
       "3           tomorrow want hang laughing loud  \n",
       "4                     love pizza much foodie  \n",
       "5     ths place awesome service could better  \n",
       "6               rage quit game broken friend  \n",
       "7              please tell opinion important  \n",
       "8  lecture boring friend couldnt even listen  "
      ]
     },
     "execution_count": 438,
     "metadata": {},
     "output_type": "execute_result"
    }
   ],
   "source": [
    "import nltk\n",
    "from nltk.corpus import stopwords\n",
    "from nltk.tokenize import word_tokenize,sent_tokenize\n",
    "stop_words = set(stopwords.words('english'))\n",
    "def removing_stopwords(text):\n",
    "    stop_words = set(stopwords.words('english'))\n",
    "    words = word_tokenize(text)\n",
    "    filtered_words = [word for word in words if word.lower() not in stop_words]\n",
    "    filtered_sentences = ' '.join(filtered_words)\n",
    "    \n",
    "    return filtered_sentences\n",
    "\n",
    "\n",
    "df['no_stopwords'] = df['correct'].apply(removing_stopwords)\n",
    "df[[\"correct\",\"no_stopwords\"]]"
   ]
  },
  {
   "cell_type": "markdown",
   "id": "f9678e5f",
   "metadata": {},
   "source": [
    "## Tokenization"
   ]
  },
  {
   "cell_type": "code",
   "execution_count": 439,
   "id": "aa0b38ec",
   "metadata": {},
   "outputs": [
    {
     "data": {
      "text/plain": [
       "0                  [oh, god, movie, good, cant, even]\n",
       "1                                 [got, check, great]\n",
       "2                     [happy, right, best, day, ever]\n",
       "3              [tomorrow, want, hang, laughing, loud]\n",
       "4                         [love, pizza, much, foodie]\n",
       "5       [ths, place, awesome, service, could, better]\n",
       "6                  [rage, quit, game, broken, friend]\n",
       "7                  [please, tell, opinion, important]\n",
       "8    [lecture, boring, friend, couldnt, even, listen]\n",
       "Name: tokenized, dtype: object"
      ]
     },
     "execution_count": 439,
     "metadata": {},
     "output_type": "execute_result"
    }
   ],
   "source": [
    "from nltk.tokenize import word_tokenize,sent_tokenize\n",
    "df['tokenized']=df['no_stopwords'].apply(word_tokenize)\n",
    "df['tokenized']"
   ]
  },
  {
   "cell_type": "markdown",
   "id": "a7aa4764",
   "metadata": {},
   "source": [
    "## Stemming"
   ]
  },
  {
   "cell_type": "code",
   "execution_count": 440,
   "id": "c4848774",
   "metadata": {},
   "outputs": [
    {
     "data": {
      "text/plain": [
       "0                [oh, god, movi, good, cant, even]\n",
       "1                              [got, check, great]\n",
       "2                  [happi, right, best, day, ever]\n",
       "3              [tomorrow, want, hang, laugh, loud]\n",
       "4                       [love, pizza, much, foodi]\n",
       "5       [th, place, awesom, servic, could, better]\n",
       "6               [rage, quit, game, broken, friend]\n",
       "7                   [pleas, tell, opinion, import]\n",
       "8    [lectur, bore, friend, couldnt, even, listen]\n",
       "Name: transform_text, dtype: object"
      ]
     },
     "execution_count": 440,
     "metadata": {},
     "output_type": "execute_result"
    }
   ],
   "source": [
    "\n",
    "from nltk.stem import PorterStemmer\n",
    "\n",
    "ps = PorterStemmer()\n",
    "df['transform_text'] = df['tokenized'].apply(lambda x: [ps.stem(word) for word in x])\n",
    "df['transform_text']\n"
   ]
  },
  {
   "cell_type": "markdown",
   "id": "66927950",
   "metadata": {},
   "source": [
    "## Lemmatization"
   ]
  },
  {
   "cell_type": "code",
   "execution_count": 441,
   "id": "7d4dd77c",
   "metadata": {},
   "outputs": [
    {
     "data": {
      "text/html": [
       "<div>\n",
       "<style scoped>\n",
       "    .dataframe tbody tr th:only-of-type {\n",
       "        vertical-align: middle;\n",
       "    }\n",
       "\n",
       "    .dataframe tbody tr th {\n",
       "        vertical-align: top;\n",
       "    }\n",
       "\n",
       "    .dataframe thead th {\n",
       "        text-align: right;\n",
       "    }\n",
       "</style>\n",
       "<table border=\"1\" class=\"dataframe\">\n",
       "  <thead>\n",
       "    <tr style=\"text-align: right;\">\n",
       "      <th></th>\n",
       "      <th>tokenized</th>\n",
       "      <th>lemma_text</th>\n",
       "    </tr>\n",
       "  </thead>\n",
       "  <tbody>\n",
       "    <tr>\n",
       "      <th>0</th>\n",
       "      <td>[oh, god, movie, good, cant, even]</td>\n",
       "      <td>[oh, god, movie, good, cant, even]</td>\n",
       "    </tr>\n",
       "    <tr>\n",
       "      <th>1</th>\n",
       "      <td>[got, check, great]</td>\n",
       "      <td>[get, check, great]</td>\n",
       "    </tr>\n",
       "    <tr>\n",
       "      <th>2</th>\n",
       "      <td>[happy, right, best, day, ever]</td>\n",
       "      <td>[happy, right, best, day, ever]</td>\n",
       "    </tr>\n",
       "    <tr>\n",
       "      <th>3</th>\n",
       "      <td>[tomorrow, want, hang, laughing, loud]</td>\n",
       "      <td>[tomorrow, want, hang, laugh, loud]</td>\n",
       "    </tr>\n",
       "    <tr>\n",
       "      <th>4</th>\n",
       "      <td>[love, pizza, much, foodie]</td>\n",
       "      <td>[love, pizza, much, foodie]</td>\n",
       "    </tr>\n",
       "    <tr>\n",
       "      <th>5</th>\n",
       "      <td>[ths, place, awesome, service, could, better]</td>\n",
       "      <td>[ths, place, awesome, service, could, better]</td>\n",
       "    </tr>\n",
       "    <tr>\n",
       "      <th>6</th>\n",
       "      <td>[rage, quit, game, broken, friend]</td>\n",
       "      <td>[rage, quit, game, break, friend]</td>\n",
       "    </tr>\n",
       "    <tr>\n",
       "      <th>7</th>\n",
       "      <td>[please, tell, opinion, important]</td>\n",
       "      <td>[please, tell, opinion, important]</td>\n",
       "    </tr>\n",
       "    <tr>\n",
       "      <th>8</th>\n",
       "      <td>[lecture, boring, friend, couldnt, even, listen]</td>\n",
       "      <td>[lecture, bore, friend, couldnt, even, listen]</td>\n",
       "    </tr>\n",
       "  </tbody>\n",
       "</table>\n",
       "</div>"
      ],
      "text/plain": [
       "                                          tokenized  \\\n",
       "0                [oh, god, movie, good, cant, even]   \n",
       "1                               [got, check, great]   \n",
       "2                   [happy, right, best, day, ever]   \n",
       "3            [tomorrow, want, hang, laughing, loud]   \n",
       "4                       [love, pizza, much, foodie]   \n",
       "5     [ths, place, awesome, service, could, better]   \n",
       "6                [rage, quit, game, broken, friend]   \n",
       "7                [please, tell, opinion, important]   \n",
       "8  [lecture, boring, friend, couldnt, even, listen]   \n",
       "\n",
       "                                       lemma_text  \n",
       "0              [oh, god, movie, good, cant, even]  \n",
       "1                             [get, check, great]  \n",
       "2                 [happy, right, best, day, ever]  \n",
       "3             [tomorrow, want, hang, laugh, loud]  \n",
       "4                     [love, pizza, much, foodie]  \n",
       "5   [ths, place, awesome, service, could, better]  \n",
       "6               [rage, quit, game, break, friend]  \n",
       "7              [please, tell, opinion, important]  \n",
       "8  [lecture, bore, friend, couldnt, even, listen]  "
      ]
     },
     "execution_count": 441,
     "metadata": {},
     "output_type": "execute_result"
    }
   ],
   "source": [
    "# Import the WordNetLemmatizer from nltk\n",
    "from nltk.stem import WordNetLemmatizer\n",
    "\n",
    "def get_pos(word): #setting verb as the default lemma\n",
    "    return 'v'\n",
    "# Initialize the lemmatizer\n",
    "lemmatizer = WordNetLemmatizer()\n",
    "df['lemma_text']=df['tokenized'].apply(lambda x:[lemmatizer.lemmatize(word,get_pos(word))for word in x])\n",
    "df[['tokenized','lemma_text']]"
   ]
  }
 ],
 "metadata": {
  "kernelspec": {
   "display_name": "Python 3",
   "language": "python",
   "name": "python3"
  },
  "language_info": {
   "codemirror_mode": {
    "name": "ipython",
    "version": 3
   },
   "file_extension": ".py",
   "mimetype": "text/x-python",
   "name": "python",
   "nbconvert_exporter": "python",
   "pygments_lexer": "ipython3",
   "version": "3.12.0"
  }
 },
 "nbformat": 4,
 "nbformat_minor": 5
}
